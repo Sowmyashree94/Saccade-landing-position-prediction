{
 "cells": [
  {
   "cell_type": "code",
   "execution_count": 5,
   "metadata": {},
   "outputs": [],
   "source": [
    "import numpy as np\n",
    "import math\n",
    "import os\n",
    "import tensorflow as tf\n",
    "import keras\n",
    "import keras.backend as K"
   ]
  },
  {
   "cell_type": "code",
   "execution_count": 6,
   "metadata": {},
   "outputs": [],
   "source": [
    "from keras.models import Model\n",
    "from keras.layers import Dense, Embedding, Dropout,Flatten,Concatenate, Masking\n",
    "from keras.layers import LSTM\n",
    "from sklearn.model_selection import train_test_split"
   ]
  },
  {
   "cell_type": "code",
   "execution_count": 7,
   "metadata": {},
   "outputs": [],
   "source": [
    "# If GPU is not available: \n",
    "# GPU_USE = '/cpu:0'\n",
    "# config = tf.ConfigProto(device_count = {\"GPU\": 0})\n",
    "\n",
    "\n",
    "# If GPU is available: \n",
    "config = tf.ConfigProto()\n",
    "config.log_device_placement = True\n",
    "config.allow_soft_placement = True\n",
    "config.gpu_options.allocator_type = 'BFC'\n",
    "config.gpu_options.allow_growth = True\n",
    "\n",
    "# Limit the maximum memory used\n",
    "config.gpu_options.per_process_gpu_memory_fraction = 0.9\n",
    "\n",
    "# set session config\n",
    "tf.keras.backend.set_session(tf.Session(config=config))"
   ]
  },
  {
   "cell_type": "code",
   "execution_count": 8,
   "metadata": {},
   "outputs": [],
   "source": [
    "def mse_multiDim_loss(y_true, y_pred):\n",
    "    return K.mean(K.sum(K.square(y_true - y_pred),axis = -1, keepdims=True))"
   ]
  },
  {
   "cell_type": "code",
   "execution_count": 27,
   "metadata": {},
   "outputs": [],
   "source": [
    "distance_frmMonitor = 70 #in cm\n",
    "ScreenWidth = 60.77 #cms excluding bezel width\n",
    "dispHoriRes = 2560\n",
    "display = np.array([2560,1440])\n",
    "\n",
    "deg_per_px = math.degrees(math.atan2(.5*ScreenWidth, distance_frmMonitor)) / (.5*dispHoriRes)\n",
    "\n",
    "def visualDeg_err(y_true, y_pred):\n",
    "    y_true_temp = y_true * display\n",
    "    y_pred_temp = y_pred * display\n",
    "    return (K.mean(K.sqrt(K.sum(K.square(y_true_temp - y_pred_temp), axis=-1, keepdims=True))) * deg_per_px)"
   ]
  },
  {
   "cell_type": "code",
   "execution_count": 11,
   "metadata": {},
   "outputs": [
    {
     "name": "stdout",
     "output_type": "stream",
     "text": [
      "(771, 11, 3)\n"
     ]
    }
   ],
   "source": [
    "#input data\n",
    "data_dir = \"/home/niteesh/Documents/uni/HCI/Saarland/Npy_files/\"\n",
    "files = os.listdir(data_dir)\n",
    "#for f in files:\n",
    "#   file = data_dir + f\n",
    "#    if f== files[0]:\n",
    "#        data = np.load(file)\n",
    "#    else:\n",
    "#        data = np.vstack((data,np.load(file)))\n",
    "        \n",
    "data = np.load(data_dir + \"9.npy\")\n",
    "print(data.shape)"
   ]
  },
  {
   "cell_type": "code",
   "execution_count": 28,
   "metadata": {},
   "outputs": [],
   "source": [
    "#Hyper-parameters, constants\n",
    "max_length_saccades = 10\n",
    "learning_rate=0.0009\n",
    "decay_rate = 1e-6"
   ]
  },
  {
   "cell_type": "code",
   "execution_count": 58,
   "metadata": {},
   "outputs": [],
   "source": [
    "#Hyper-parameters, constants\n",
    "max_length_saccades = 10\n",
    "learning_rate=0.0009\n",
    "decay_rate = 1e-6"
   ]
  },
  {
   "cell_type": "code",
   "execution_count": 59,
   "metadata": {},
   "outputs": [
    {
     "name": "stdout",
     "output_type": "stream",
     "text": [
      "(771, 10, 3)\n",
      "(771, 2)\n"
     ]
    }
   ],
   "source": [
    "#format data\n",
    "Input = data[:,0:max_length_saccades,:]\n",
    "#y = data[:,-1,:]\n",
    "y = data[:,-1,0:2]\n",
    "print(Input.shape)\n",
    "print(y.shape)\n",
    "X_train, X_test, y_train, y_test = train_test_split(Input, y, test_size=0.33)\n"
   ]
  },
  {
   "cell_type": "code",
   "execution_count": 67,
   "metadata": {},
   "outputs": [
    {
     "name": "stdout",
     "output_type": "stream",
     "text": [
      "_________________________________________________________________\n",
      "Layer (type)                 Output Shape              Param #   \n",
      "=================================================================\n",
      "lstm_15 (LSTM)               (None, 10, 16)            1280      \n",
      "_________________________________________________________________\n",
      "lstm_16 (LSTM)               (None, 8)                 800       \n",
      "_________________________________________________________________\n",
      "output_layers (Dense)        (None, 2)                 18        \n",
      "=================================================================\n",
      "Total params: 2,098\n",
      "Trainable params: 2,098\n",
      "Non-trainable params: 0\n",
      "_________________________________________________________________\n",
      "Inputs: (None, 10, 3)\n",
      "Outputs: (None, 2)\n",
      "Actual input: (771, 10, 3)\n",
      "Actual output: (771, 2)\n"
     ]
    }
   ],
   "source": [
    "optimizer = keras.optimizers.Adam(lr=learning_rate,decay=decay_rate)\n",
    "model = keras.models.Sequential()\n",
    "\n",
    "#layer1 = model.add(Masking(mask_value=np.inf, input_shape=(max_length_saccades, 3),name = 'mask_layer'))\n",
    "\n",
    "layer2 = model.add(LSTM(16, return_sequences=True, input_shape=(max_length_saccades, 3)))\n",
    "\n",
    "#model.add(Dropout(0.2))\n",
    "\n",
    "layer3 = model.add(LSTM(8,return_sequences=False,))  \n",
    "# returns a sequence of vectors of dimension 32\n",
    "\n",
    "#model.add(Dropout(0.2))\n",
    "\n",
    "\n",
    "\n",
    "#layer4 = model.add(Dropout(0.2))\n",
    "#model.add(Flatten())\n",
    "\n",
    "#model.add(Dense(16, activation='relu'))\n",
    "\n",
    "output_layer = model.add(Dense(2, activation='linear',name = 'output_layers'))\n",
    "#output_layer = model.add(LSTM(2,activation=None,return_sequences=False)) \n",
    "\n",
    "# try using different optimizers and different optimizer configs\n",
    "#model.compile(loss='mse',optimizer=optimizer,metrics=['mse'])\n",
    "\n",
    "model.compile(loss=mse_multiDim_loss,\n",
    "              optimizer=optimizer,\n",
    "              metrics=[visualDeg_err])\n",
    "# Print summary\n",
    "model.summary()\n",
    "print(\"Inputs: {}\".format(model.input_shape))\n",
    "print(\"Outputs: {}\".format(model.output_shape))\n",
    "print(\"Actual input: {}\".format(Input.shape))\n",
    "print(\"Actual output: {}\".format(y.shape))"
   ]
  },
  {
   "cell_type": "code",
   "execution_count": null,
   "metadata": {},
   "outputs": [
    {
     "name": "stdout",
     "output_type": "stream",
     "text": [
      "Train on 693 samples, validate on 78 samples\n",
      "Epoch 1/1000\n",
      "693/693 [==============================] - 2s 3ms/step - loss: 0.2913 - visualDeg_err: 19.6205 - val_loss: 0.1842 - val_visualDeg_err: 14.5546\n",
      "Epoch 2/1000\n",
      "693/693 [==============================] - 0s 677us/step - loss: 0.1785 - visualDeg_err: 14.7245 - val_loss: 0.1295 - val_visualDeg_err: 11.7821\n",
      "Epoch 3/1000\n",
      "693/693 [==============================] - 0s 706us/step - loss: 0.1441 - visualDeg_err: 12.9584 - val_loss: 0.1253 - val_visualDeg_err: 11.4258\n",
      "Epoch 4/1000\n",
      "693/693 [==============================] - 0s 712us/step - loss: 0.1425 - visualDeg_err: 12.7686 - val_loss: 0.1259 - val_visualDeg_err: 11.4999\n",
      "Epoch 5/1000\n",
      "693/693 [==============================] - 0s 692us/step - loss: 0.1420 - visualDeg_err: 12.8047 - val_loss: 0.1251 - val_visualDeg_err: 11.3812\n",
      "Epoch 6/1000\n",
      "693/693 [==============================] - 0s 710us/step - loss: 0.1421 - visualDeg_err: 12.7892 - val_loss: 0.1254 - val_visualDeg_err: 11.4971\n",
      "Epoch 7/1000\n",
      "693/693 [==============================] - 1s 731us/step - loss: 0.1427 - visualDeg_err: 12.8339 - val_loss: 0.1252 - val_visualDeg_err: 11.4396\n",
      "Epoch 8/1000\n",
      "693/693 [==============================] - 0s 692us/step - loss: 0.1418 - visualDeg_err: 12.7844 - val_loss: 0.1246 - val_visualDeg_err: 11.3895\n",
      "Epoch 9/1000\n",
      "693/693 [==============================] - 1s 733us/step - loss: 0.1416 - visualDeg_err: 12.7775 - val_loss: 0.1248 - val_visualDeg_err: 11.4077\n",
      "Epoch 10/1000\n",
      "693/693 [==============================] - 1s 765us/step - loss: 0.1419 - visualDeg_err: 12.7561 - val_loss: 0.1251 - val_visualDeg_err: 11.4661\n",
      "Epoch 11/1000\n",
      "693/693 [==============================] - 1s 749us/step - loss: 0.1416 - visualDeg_err: 12.8052 - val_loss: 0.1250 - val_visualDeg_err: 11.3652\n",
      "Epoch 12/1000\n",
      "693/693 [==============================] - 0s 689us/step - loss: 0.1414 - visualDeg_err: 12.7656 - val_loss: 0.1243 - val_visualDeg_err: 11.4102\n",
      "Epoch 13/1000\n",
      "693/693 [==============================] - 0s 708us/step - loss: 0.1414 - visualDeg_err: 12.7562 - val_loss: 0.1248 - val_visualDeg_err: 11.3937\n",
      "Epoch 14/1000\n",
      "693/693 [==============================] - 0s 714us/step - loss: 0.1413 - visualDeg_err: 12.7683 - val_loss: 0.1246 - val_visualDeg_err: 11.3857\n",
      "Epoch 15/1000\n",
      "693/693 [==============================] - 1s 802us/step - loss: 0.1413 - visualDeg_err: 12.7682 - val_loss: 0.1239 - val_visualDeg_err: 11.3738\n",
      "Epoch 16/1000\n",
      "693/693 [==============================] - 0s 721us/step - loss: 0.1411 - visualDeg_err: 12.7735 - val_loss: 0.1258 - val_visualDeg_err: 11.3836\n",
      "Epoch 17/1000\n",
      "693/693 [==============================] - 0s 720us/step - loss: 0.1419 - visualDeg_err: 12.7669 - val_loss: 0.1243 - val_visualDeg_err: 11.3692\n",
      "Epoch 18/1000\n",
      "693/693 [==============================] - 1s 821us/step - loss: 0.1410 - visualDeg_err: 12.7403 - val_loss: 0.1241 - val_visualDeg_err: 11.4037\n",
      "Epoch 19/1000\n",
      "693/693 [==============================] - 1s 730us/step - loss: 0.1414 - visualDeg_err: 12.7756 - val_loss: 0.1241 - val_visualDeg_err: 11.3512\n",
      "Epoch 20/1000\n",
      "693/693 [==============================] - 0s 698us/step - loss: 0.1408 - visualDeg_err: 12.7597 - val_loss: 0.1237 - val_visualDeg_err: 11.3548\n",
      "Epoch 21/1000\n",
      "693/693 [==============================] - 1s 728us/step - loss: 0.1411 - visualDeg_err: 12.7297 - val_loss: 0.1238 - val_visualDeg_err: 11.3940\n",
      "Epoch 22/1000\n",
      "693/693 [==============================] - 1s 823us/step - loss: 0.1409 - visualDeg_err: 12.7361 - val_loss: 0.1243 - val_visualDeg_err: 11.4182\n",
      "Epoch 23/1000\n",
      "693/693 [==============================] - 1s 794us/step - loss: 0.1404 - visualDeg_err: 12.7435 - val_loss: 0.1254 - val_visualDeg_err: 11.3783\n",
      "Epoch 24/1000\n",
      "693/693 [==============================] - 0s 706us/step - loss: 0.1420 - visualDeg_err: 12.7552 - val_loss: 0.1268 - val_visualDeg_err: 11.5990\n",
      "Epoch 25/1000\n",
      "693/693 [==============================] - 1s 722us/step - loss: 0.1409 - visualDeg_err: 12.7326 - val_loss: 0.1227 - val_visualDeg_err: 11.3733\n",
      "Epoch 26/1000\n",
      "693/693 [==============================] - 0s 713us/step - loss: 0.1406 - visualDeg_err: 12.7444 - val_loss: 0.1237 - val_visualDeg_err: 11.3680\n",
      "Epoch 27/1000\n",
      "693/693 [==============================] - 1s 736us/step - loss: 0.1405 - visualDeg_err: 12.7509 - val_loss: 0.1243 - val_visualDeg_err: 11.4204\n",
      "Epoch 28/1000\n",
      "693/693 [==============================] - 0s 721us/step - loss: 0.1404 - visualDeg_err: 12.6953 - val_loss: 0.1233 - val_visualDeg_err: 11.3463\n",
      "Epoch 29/1000\n",
      "693/693 [==============================] - 1s 741us/step - loss: 0.1405 - visualDeg_err: 12.7249 - val_loss: 0.1255 - val_visualDeg_err: 11.4843\n",
      "Epoch 30/1000\n",
      "693/693 [==============================] - 1s 742us/step - loss: 0.1405 - visualDeg_err: 12.7288 - val_loss: 0.1231 - val_visualDeg_err: 11.4390\n",
      "Epoch 31/1000\n",
      "693/693 [==============================] - 1s 829us/step - loss: 0.1401 - visualDeg_err: 12.7191 - val_loss: 0.1241 - val_visualDeg_err: 11.3415\n",
      "Epoch 32/1000\n",
      "693/693 [==============================] - 1s 724us/step - loss: 0.1399 - visualDeg_err: 12.7152 - val_loss: 0.1244 - val_visualDeg_err: 11.3722\n",
      "Epoch 33/1000\n",
      "693/693 [==============================] - 1s 754us/step - loss: 0.1401 - visualDeg_err: 12.7412 - val_loss: 0.1232 - val_visualDeg_err: 11.3151\n",
      "Epoch 34/1000\n",
      "693/693 [==============================] - 1s 736us/step - loss: 0.1390 - visualDeg_err: 12.6512 - val_loss: 0.1235 - val_visualDeg_err: 11.3439\n",
      "Epoch 35/1000\n",
      "693/693 [==============================] - 1s 829us/step - loss: 0.1386 - visualDeg_err: 12.6718 - val_loss: 0.1235 - val_visualDeg_err: 11.3225\n",
      "Epoch 36/1000\n",
      "693/693 [==============================] - 0s 667us/step - loss: 0.1394 - visualDeg_err: 12.6966 - val_loss: 0.1236 - val_visualDeg_err: 11.4597\n",
      "Epoch 37/1000\n",
      "693/693 [==============================] - 1s 783us/step - loss: 0.1387 - visualDeg_err: 12.6624 - val_loss: 0.1231 - val_visualDeg_err: 11.3896\n",
      "Epoch 38/1000\n",
      "693/693 [==============================] - 1s 791us/step - loss: 0.1387 - visualDeg_err: 12.6611 - val_loss: 0.1237 - val_visualDeg_err: 11.3164\n",
      "Epoch 39/1000\n",
      "693/693 [==============================] - 1s 809us/step - loss: 0.1387 - visualDeg_err: 12.6700 - val_loss: 0.1250 - val_visualDeg_err: 11.4148\n",
      "Epoch 40/1000\n",
      "693/693 [==============================] - 1s 849us/step - loss: 0.1377 - visualDeg_err: 12.6125 - val_loss: 0.1225 - val_visualDeg_err: 11.3612\n",
      "Epoch 41/1000\n",
      "693/693 [==============================] - 0s 712us/step - loss: 0.1370 - visualDeg_err: 12.5833 - val_loss: 0.1236 - val_visualDeg_err: 11.4831\n",
      "Epoch 42/1000\n",
      "693/693 [==============================] - 0s 694us/step - loss: 0.1376 - visualDeg_err: 12.6161 - val_loss: 0.1237 - val_visualDeg_err: 11.3028\n",
      "Epoch 43/1000\n",
      "693/693 [==============================] - 0s 706us/step - loss: 0.1370 - visualDeg_err: 12.5999 - val_loss: 0.1240 - val_visualDeg_err: 11.4402\n",
      "Epoch 44/1000\n",
      "693/693 [==============================] - 0s 689us/step - loss: 0.1361 - visualDeg_err: 12.5779 - val_loss: 0.1230 - val_visualDeg_err: 11.3535\n",
      "Epoch 45/1000\n",
      "693/693 [==============================] - 1s 759us/step - loss: 0.1362 - visualDeg_err: 12.5700 - val_loss: 0.1241 - val_visualDeg_err: 11.3244\n",
      "Epoch 46/1000\n",
      "693/693 [==============================] - 0s 702us/step - loss: 0.1355 - visualDeg_err: 12.5292 - val_loss: 0.1225 - val_visualDeg_err: 11.4052\n",
      "Epoch 47/1000\n",
      "693/693 [==============================] - 0s 692us/step - loss: 0.1344 - visualDeg_err: 12.4785 - val_loss: 0.1228 - val_visualDeg_err: 11.2835\n",
      "Epoch 48/1000\n",
      "693/693 [==============================] - 1s 723us/step - loss: 0.1335 - visualDeg_err: 12.4157 - val_loss: 0.1226 - val_visualDeg_err: 11.4025\n",
      "Epoch 49/1000\n",
      "693/693 [==============================] - 0s 702us/step - loss: 0.1336 - visualDeg_err: 12.4422 - val_loss: 0.1233 - val_visualDeg_err: 11.4267\n",
      "Epoch 50/1000\n",
      "693/693 [==============================] - 0s 715us/step - loss: 0.1329 - visualDeg_err: 12.4101 - val_loss: 0.1221 - val_visualDeg_err: 11.3601\n",
      "Epoch 51/1000\n",
      "693/693 [==============================] - 0s 708us/step - loss: 0.1324 - visualDeg_err: 12.3618 - val_loss: 0.1233 - val_visualDeg_err: 11.5717\n",
      "Epoch 52/1000\n"
     ]
    },
    {
     "name": "stdout",
     "output_type": "stream",
     "text": [
      "693/693 [==============================] - 0s 665us/step - loss: 0.1300 - visualDeg_err: 12.2859 - val_loss: 0.1272 - val_visualDeg_err: 11.8480\n",
      "Epoch 53/1000\n",
      "693/693 [==============================] - 0s 688us/step - loss: 0.1326 - visualDeg_err: 12.3333 - val_loss: 0.1228 - val_visualDeg_err: 11.4957\n",
      "Epoch 54/1000\n",
      "693/693 [==============================] - 0s 697us/step - loss: 0.1316 - visualDeg_err: 12.3399 - val_loss: 0.1238 - val_visualDeg_err: 11.3093\n",
      "Epoch 55/1000\n",
      "693/693 [==============================] - 0s 714us/step - loss: 0.1311 - visualDeg_err: 12.2549 - val_loss: 0.1293 - val_visualDeg_err: 12.0003\n",
      "Epoch 56/1000\n",
      "693/693 [==============================] - 0s 695us/step - loss: 0.1291 - visualDeg_err: 12.1204 - val_loss: 0.1242 - val_visualDeg_err: 11.4614\n",
      "Epoch 57/1000\n",
      "693/693 [==============================] - 0s 713us/step - loss: 0.1279 - visualDeg_err: 12.1101 - val_loss: 0.1251 - val_visualDeg_err: 11.6102\n",
      "Epoch 58/1000\n",
      "693/693 [==============================] - 0s 705us/step - loss: 0.1267 - visualDeg_err: 12.0040 - val_loss: 0.1277 - val_visualDeg_err: 11.8737\n",
      "Epoch 59/1000\n",
      "693/693 [==============================] - 0s 703us/step - loss: 0.1278 - visualDeg_err: 12.0174 - val_loss: 0.1292 - val_visualDeg_err: 11.9916\n",
      "Epoch 60/1000\n",
      "693/693 [==============================] - 0s 669us/step - loss: 0.1268 - visualDeg_err: 11.9816 - val_loss: 0.1225 - val_visualDeg_err: 11.3651\n",
      "Epoch 61/1000\n",
      "693/693 [==============================] - 0s 715us/step - loss: 0.1272 - visualDeg_err: 12.0330 - val_loss: 0.1294 - val_visualDeg_err: 12.0127\n",
      "Epoch 62/1000\n",
      "693/693 [==============================] - 0s 688us/step - loss: 0.1251 - visualDeg_err: 11.8859 - val_loss: 0.1265 - val_visualDeg_err: 11.7827\n",
      "Epoch 63/1000\n",
      "693/693 [==============================] - 0s 715us/step - loss: 0.1263 - visualDeg_err: 11.9273 - val_loss: 0.1265 - val_visualDeg_err: 11.8319\n",
      "Epoch 64/1000\n",
      "693/693 [==============================] - 0s 695us/step - loss: 0.1262 - visualDeg_err: 11.9043 - val_loss: 0.1250 - val_visualDeg_err: 11.6256\n",
      "Epoch 65/1000\n",
      "693/693 [==============================] - 0s 696us/step - loss: 0.1233 - visualDeg_err: 11.7614 - val_loss: 0.1262 - val_visualDeg_err: 11.6323\n",
      "Epoch 66/1000\n",
      "693/693 [==============================] - 1s 774us/step - loss: 0.1262 - visualDeg_err: 12.0157 - val_loss: 0.1278 - val_visualDeg_err: 11.5897\n",
      "Epoch 67/1000\n",
      "693/693 [==============================] - 1s 764us/step - loss: 0.1265 - visualDeg_err: 11.8621 - val_loss: 0.1268 - val_visualDeg_err: 11.7162\n",
      "Epoch 68/1000\n",
      "693/693 [==============================] - 1s 737us/step - loss: 0.1247 - visualDeg_err: 11.8126 - val_loss: 0.1301 - val_visualDeg_err: 11.9215\n",
      "Epoch 69/1000\n",
      "693/693 [==============================] - 0s 645us/step - loss: 0.1230 - visualDeg_err: 11.7352 - val_loss: 0.1269 - val_visualDeg_err: 11.7195\n",
      "Epoch 70/1000\n",
      "693/693 [==============================] - 0s 599us/step - loss: 0.1210 - visualDeg_err: 11.5989 - val_loss: 0.1266 - val_visualDeg_err: 11.6539\n",
      "Epoch 71/1000\n",
      "693/693 [==============================] - 0s 611us/step - loss: 0.1202 - visualDeg_err: 11.5837 - val_loss: 0.1269 - val_visualDeg_err: 11.7818\n",
      "Epoch 72/1000\n",
      "693/693 [==============================] - 0s 609us/step - loss: 0.1209 - visualDeg_err: 11.6309 - val_loss: 0.1228 - val_visualDeg_err: 11.5126\n",
      "Epoch 73/1000\n",
      "693/693 [==============================] - 0s 659us/step - loss: 0.1209 - visualDeg_err: 11.5441 - val_loss: 0.1218 - val_visualDeg_err: 11.8544\n",
      "Epoch 74/1000\n",
      "693/693 [==============================] - 0s 604us/step - loss: 0.1221 - visualDeg_err: 11.6145 - val_loss: 0.1243 - val_visualDeg_err: 11.5931\n",
      "Epoch 75/1000\n",
      "693/693 [==============================] - 0s 707us/step - loss: 0.1198 - visualDeg_err: 11.5002 - val_loss: 0.1271 - val_visualDeg_err: 11.8183\n",
      "Epoch 76/1000\n",
      "693/693 [==============================] - 0s 634us/step - loss: 0.1183 - visualDeg_err: 11.4096 - val_loss: 0.1247 - val_visualDeg_err: 11.4907\n",
      "Epoch 77/1000\n",
      "693/693 [==============================] - 0s 662us/step - loss: 0.1183 - visualDeg_err: 11.4050 - val_loss: 0.1253 - val_visualDeg_err: 11.7359\n",
      "Epoch 78/1000\n",
      "693/693 [==============================] - 0s 618us/step - loss: 0.1141 - visualDeg_err: 11.3623 - val_loss: 0.1292 - val_visualDeg_err: 11.9492\n",
      "Epoch 79/1000\n",
      "693/693 [==============================] - 0s 616us/step - loss: 0.1150 - visualDeg_err: 11.3099 - val_loss: 0.1277 - val_visualDeg_err: 12.0195\n",
      "Epoch 80/1000\n",
      "693/693 [==============================] - 0s 609us/step - loss: 0.1119 - visualDeg_err: 11.3263 - val_loss: 0.1263 - val_visualDeg_err: 12.2610\n",
      "Epoch 81/1000\n",
      "693/693 [==============================] - 0s 622us/step - loss: 0.1192 - visualDeg_err: 11.6970 - val_loss: 0.1322 - val_visualDeg_err: 12.0958\n",
      "Epoch 82/1000\n",
      "693/693 [==============================] - 0s 623us/step - loss: 0.1137 - visualDeg_err: 11.3457 - val_loss: 0.1264 - val_visualDeg_err: 12.2133\n",
      "Epoch 83/1000\n",
      "693/693 [==============================] - 0s 612us/step - loss: 0.1070 - visualDeg_err: 11.1200 - val_loss: 0.1231 - val_visualDeg_err: 12.1378\n",
      "Epoch 84/1000\n",
      "693/693 [==============================] - 0s 610us/step - loss: 0.1056 - visualDeg_err: 11.0046 - val_loss: 0.1223 - val_visualDeg_err: 11.7818\n",
      "Epoch 85/1000\n",
      "693/693 [==============================] - 0s 606us/step - loss: 0.1047 - visualDeg_err: 10.8196 - val_loss: 0.1230 - val_visualDeg_err: 12.1490\n",
      "Epoch 86/1000\n",
      "693/693 [==============================] - 0s 607us/step - loss: 0.1067 - visualDeg_err: 11.0593 - val_loss: 0.1300 - val_visualDeg_err: 11.7868\n",
      "Epoch 87/1000\n",
      "693/693 [==============================] - 0s 609us/step - loss: 0.1068 - visualDeg_err: 11.0278 - val_loss: 0.1184 - val_visualDeg_err: 11.9922\n",
      "Epoch 88/1000\n",
      "693/693 [==============================] - 0s 626us/step - loss: 0.1002 - visualDeg_err: 10.7596 - val_loss: 0.1172 - val_visualDeg_err: 11.7417\n",
      "Epoch 89/1000\n",
      "693/693 [==============================] - 0s 609us/step - loss: 0.1042 - visualDeg_err: 10.8947 - val_loss: 0.1216 - val_visualDeg_err: 11.5057\n",
      "Epoch 90/1000\n",
      "693/693 [==============================] - 0s 628us/step - loss: 0.1046 - visualDeg_err: 10.8402 - val_loss: 0.1174 - val_visualDeg_err: 11.5243\n",
      "Epoch 91/1000\n",
      "693/693 [==============================] - 0s 610us/step - loss: 0.1043 - visualDeg_err: 10.8789 - val_loss: 0.1180 - val_visualDeg_err: 11.6699\n",
      "Epoch 92/1000\n",
      "693/693 [==============================] - 0s 612us/step - loss: 0.1007 - visualDeg_err: 10.6413 - val_loss: 0.1194 - val_visualDeg_err: 11.7513\n",
      "Epoch 93/1000\n",
      "693/693 [==============================] - 0s 607us/step - loss: 0.0978 - visualDeg_err: 10.4939 - val_loss: 0.1164 - val_visualDeg_err: 11.6929\n",
      "Epoch 94/1000\n",
      "693/693 [==============================] - 0s 615us/step - loss: 0.1006 - visualDeg_err: 10.5764 - val_loss: 0.1139 - val_visualDeg_err: 11.5375\n",
      "Epoch 95/1000\n",
      "693/693 [==============================] - 0s 617us/step - loss: 0.0955 - visualDeg_err: 10.3648 - val_loss: 0.1105 - val_visualDeg_err: 11.4730\n",
      "Epoch 96/1000\n",
      "693/693 [==============================] - 0s 606us/step - loss: 0.0975 - visualDeg_err: 10.5064 - val_loss: 0.1151 - val_visualDeg_err: 11.7860\n",
      "Epoch 97/1000\n",
      "693/693 [==============================] - 0s 622us/step - loss: 0.0977 - visualDeg_err: 10.5724 - val_loss: 0.1138 - val_visualDeg_err: 11.2702\n",
      "Epoch 98/1000\n",
      "693/693 [==============================] - 0s 612us/step - loss: 0.0952 - visualDeg_err: 10.3155 - val_loss: 0.1116 - val_visualDeg_err: 11.7040\n",
      "Epoch 99/1000\n",
      "693/693 [==============================] - 0s 608us/step - loss: 0.0955 - visualDeg_err: 10.4284 - val_loss: 0.1129 - val_visualDeg_err: 11.6654\n",
      "Epoch 100/1000\n",
      "693/693 [==============================] - 0s 609us/step - loss: 0.0916 - visualDeg_err: 10.1860 - val_loss: 0.1125 - val_visualDeg_err: 11.8531\n",
      "Epoch 101/1000\n",
      "693/693 [==============================] - 0s 617us/step - loss: 0.0973 - visualDeg_err: 10.4259 - val_loss: 0.1116 - val_visualDeg_err: 11.5660\n",
      "Epoch 102/1000\n",
      "693/693 [==============================] - 0s 612us/step - loss: 0.0950 - visualDeg_err: 10.2859 - val_loss: 0.1124 - val_visualDeg_err: 11.6691\n",
      "Epoch 103/1000\n"
     ]
    },
    {
     "name": "stdout",
     "output_type": "stream",
     "text": [
      "693/693 [==============================] - 0s 609us/step - loss: 0.0946 - visualDeg_err: 10.3021 - val_loss: 0.1153 - val_visualDeg_err: 11.6104\n",
      "Epoch 104/1000\n",
      "693/693 [==============================] - 0s 614us/step - loss: 0.0908 - visualDeg_err: 10.0657 - val_loss: 0.1047 - val_visualDeg_err: 11.2336\n",
      "Epoch 105/1000\n",
      "693/693 [==============================] - 0s 607us/step - loss: 0.0892 - visualDeg_err: 10.0716 - val_loss: 0.1105 - val_visualDeg_err: 11.4687\n",
      "Epoch 106/1000\n",
      "693/693 [==============================] - 0s 613us/step - loss: 0.0946 - visualDeg_err: 10.2786 - val_loss: 0.1099 - val_visualDeg_err: 11.3950\n",
      "Epoch 107/1000\n",
      "693/693 [==============================] - 0s 610us/step - loss: 0.0933 - visualDeg_err: 10.1935 - val_loss: 0.1028 - val_visualDeg_err: 11.0752\n",
      "Epoch 108/1000\n",
      "693/693 [==============================] - 0s 609us/step - loss: 0.0895 - visualDeg_err: 10.1358 - val_loss: 0.1088 - val_visualDeg_err: 11.4598\n",
      "Epoch 109/1000\n",
      "693/693 [==============================] - 0s 654us/step - loss: 0.0906 - visualDeg_err: 10.0102 - val_loss: 0.1081 - val_visualDeg_err: 11.2326\n",
      "Epoch 110/1000\n",
      "693/693 [==============================] - 0s 614us/step - loss: 0.0918 - visualDeg_err: 10.2086 - val_loss: 0.1091 - val_visualDeg_err: 11.3834\n",
      "Epoch 111/1000\n",
      "693/693 [==============================] - 0s 611us/step - loss: 0.0872 - visualDeg_err: 9.9407 - val_loss: 0.1003 - val_visualDeg_err: 10.7958\n",
      "Epoch 112/1000\n",
      "693/693 [==============================] - 0s 611us/step - loss: 0.0858 - visualDeg_err: 9.8019 - val_loss: 0.1093 - val_visualDeg_err: 11.3446\n",
      "Epoch 113/1000\n",
      "693/693 [==============================] - 0s 620us/step - loss: 0.0857 - visualDeg_err: 9.8794 - val_loss: 0.1130 - val_visualDeg_err: 11.7713\n",
      "Epoch 114/1000\n",
      "693/693 [==============================] - 0s 609us/step - loss: 0.0889 - visualDeg_err: 10.0117 - val_loss: 0.1060 - val_visualDeg_err: 11.2581\n",
      "Epoch 115/1000\n",
      "693/693 [==============================] - 0s 615us/step - loss: 0.0852 - visualDeg_err: 9.8112 - val_loss: 0.1017 - val_visualDeg_err: 11.0714\n",
      "Epoch 116/1000\n",
      "693/693 [==============================] - 0s 605us/step - loss: 0.0838 - visualDeg_err: 9.6966 - val_loss: 0.1008 - val_visualDeg_err: 10.9825\n",
      "Epoch 117/1000\n",
      "693/693 [==============================] - 0s 618us/step - loss: 0.0898 - visualDeg_err: 9.9803 - val_loss: 0.1028 - val_visualDeg_err: 11.0186\n",
      "Epoch 118/1000\n",
      "693/693 [==============================] - 0s 615us/step - loss: 0.0848 - visualDeg_err: 9.8430 - val_loss: 0.1005 - val_visualDeg_err: 11.0546\n",
      "Epoch 119/1000\n",
      "693/693 [==============================] - 0s 617us/step - loss: 0.0849 - visualDeg_err: 9.7954 - val_loss: 0.0984 - val_visualDeg_err: 10.7966\n",
      "Epoch 120/1000\n",
      "693/693 [==============================] - 0s 611us/step - loss: 0.0825 - visualDeg_err: 9.6703 - val_loss: 0.0972 - val_visualDeg_err: 10.9019\n",
      "Epoch 121/1000\n",
      "693/693 [==============================] - 0s 612us/step - loss: 0.0813 - visualDeg_err: 9.6283 - val_loss: 0.0999 - val_visualDeg_err: 11.0152\n",
      "Epoch 122/1000\n",
      "693/693 [==============================] - 0s 625us/step - loss: 0.0791 - visualDeg_err: 9.4978 - val_loss: 0.0982 - val_visualDeg_err: 10.9421\n",
      "Epoch 123/1000\n",
      "693/693 [==============================] - 0s 614us/step - loss: 0.0764 - visualDeg_err: 9.3589 - val_loss: 0.0939 - val_visualDeg_err: 10.7489\n",
      "Epoch 124/1000\n",
      "693/693 [==============================] - 0s 613us/step - loss: 0.0798 - visualDeg_err: 9.5139 - val_loss: 0.0962 - val_visualDeg_err: 10.9099\n",
      "Epoch 125/1000\n",
      "693/693 [==============================] - 0s 609us/step - loss: 0.0797 - visualDeg_err: 9.5818 - val_loss: 0.0913 - val_visualDeg_err: 10.5737\n",
      "Epoch 126/1000\n",
      "693/693 [==============================] - 0s 610us/step - loss: 0.0791 - visualDeg_err: 9.5525 - val_loss: 0.0916 - val_visualDeg_err: 10.6071\n",
      "Epoch 127/1000\n",
      "693/693 [==============================] - 0s 616us/step - loss: 0.0797 - visualDeg_err: 9.5406 - val_loss: 0.1036 - val_visualDeg_err: 11.2644\n",
      "Epoch 128/1000\n",
      "693/693 [==============================] - 0s 611us/step - loss: 0.0764 - visualDeg_err: 9.3966 - val_loss: 0.0911 - val_visualDeg_err: 10.6330\n",
      "Epoch 129/1000\n",
      "693/693 [==============================] - 0s 613us/step - loss: 0.0722 - visualDeg_err: 9.1272 - val_loss: 0.0947 - val_visualDeg_err: 10.8324\n",
      "Epoch 130/1000\n",
      "693/693 [==============================] - 0s 617us/step - loss: 0.0729 - visualDeg_err: 9.1391 - val_loss: 0.0930 - val_visualDeg_err: 10.7094\n",
      "Epoch 131/1000\n",
      "693/693 [==============================] - 0s 609us/step - loss: 0.0730 - visualDeg_err: 9.1411 - val_loss: 0.0886 - val_visualDeg_err: 10.5107\n",
      "Epoch 132/1000\n",
      "693/693 [==============================] - 0s 610us/step - loss: 0.0717 - visualDeg_err: 9.0545 - val_loss: 0.0907 - val_visualDeg_err: 10.6627\n",
      "Epoch 133/1000\n",
      "693/693 [==============================] - 0s 607us/step - loss: 0.0728 - visualDeg_err: 9.1308 - val_loss: 0.0995 - val_visualDeg_err: 10.9953\n",
      "Epoch 134/1000\n",
      "693/693 [==============================] - 0s 609us/step - loss: 0.0750 - visualDeg_err: 9.1741 - val_loss: 0.0891 - val_visualDeg_err: 10.3554\n",
      "Epoch 135/1000\n",
      "693/693 [==============================] - 0s 610us/step - loss: 0.0689 - visualDeg_err: 8.9187 - val_loss: 0.0868 - val_visualDeg_err: 10.3164\n",
      "Epoch 136/1000\n",
      "693/693 [==============================] - 0s 620us/step - loss: 0.0685 - visualDeg_err: 8.8186 - val_loss: 0.0886 - val_visualDeg_err: 10.5216\n",
      "Epoch 137/1000\n",
      "693/693 [==============================] - 0s 618us/step - loss: 0.0714 - visualDeg_err: 9.0007 - val_loss: 0.0885 - val_visualDeg_err: 10.3881\n",
      "Epoch 138/1000\n",
      "693/693 [==============================] - 0s 607us/step - loss: 0.0723 - visualDeg_err: 9.0673 - val_loss: 0.0980 - val_visualDeg_err: 10.7641\n",
      "Epoch 139/1000\n",
      "693/693 [==============================] - 0s 611us/step - loss: 0.0704 - visualDeg_err: 8.9456 - val_loss: 0.0874 - val_visualDeg_err: 10.2745\n",
      "Epoch 140/1000\n",
      "693/693 [==============================] - 0s 616us/step - loss: 0.0666 - visualDeg_err: 8.6531 - val_loss: 0.0826 - val_visualDeg_err: 10.0188\n",
      "Epoch 141/1000\n",
      "693/693 [==============================] - 0s 623us/step - loss: 0.0658 - visualDeg_err: 8.6731 - val_loss: 0.0831 - val_visualDeg_err: 9.8589\n",
      "Epoch 142/1000\n",
      "693/693 [==============================] - 0s 621us/step - loss: 0.0661 - visualDeg_err: 8.6558 - val_loss: 0.0845 - val_visualDeg_err: 9.9445\n",
      "Epoch 143/1000\n",
      "693/693 [==============================] - 0s 608us/step - loss: 0.0658 - visualDeg_err: 8.5766 - val_loss: 0.0851 - val_visualDeg_err: 10.1083\n",
      "Epoch 144/1000\n",
      "693/693 [==============================] - 0s 619us/step - loss: 0.0696 - visualDeg_err: 8.7186 - val_loss: 0.0798 - val_visualDeg_err: 9.7271\n",
      "Epoch 145/1000\n",
      "693/693 [==============================] - 0s 604us/step - loss: 0.0636 - visualDeg_err: 8.4000 - val_loss: 0.0884 - val_visualDeg_err: 10.0365\n",
      "Epoch 146/1000\n",
      "693/693 [==============================] - 0s 613us/step - loss: 0.0676 - visualDeg_err: 8.6122 - val_loss: 0.0847 - val_visualDeg_err: 9.8266\n",
      "Epoch 147/1000\n",
      "693/693 [==============================] - 0s 613us/step - loss: 0.0619 - visualDeg_err: 8.2434 - val_loss: 0.0835 - val_visualDeg_err: 9.7004\n",
      "Epoch 148/1000\n",
      "693/693 [==============================] - 0s 613us/step - loss: 0.0602 - visualDeg_err: 8.1551 - val_loss: 0.0811 - val_visualDeg_err: 9.5968\n",
      "Epoch 149/1000\n",
      "693/693 [==============================] - 0s 613us/step - loss: 0.0623 - visualDeg_err: 8.2703 - val_loss: 0.0806 - val_visualDeg_err: 9.6684\n",
      "Epoch 150/1000\n",
      "693/693 [==============================] - 0s 612us/step - loss: 0.0692 - visualDeg_err: 8.6146 - val_loss: 0.0744 - val_visualDeg_err: 9.2856\n",
      "Epoch 151/1000\n",
      "693/693 [==============================] - 0s 614us/step - loss: 0.0647 - visualDeg_err: 8.3112 - val_loss: 0.0738 - val_visualDeg_err: 9.0866\n",
      "Epoch 152/1000\n",
      "693/693 [==============================] - 0s 606us/step - loss: 0.0607 - visualDeg_err: 8.0645 - val_loss: 0.0810 - val_visualDeg_err: 9.2999\n",
      "Epoch 153/1000\n",
      "693/693 [==============================] - 0s 608us/step - loss: 0.0604 - visualDeg_err: 7.9625 - val_loss: 0.0693 - val_visualDeg_err: 8.7961\n",
      "Epoch 154/1000\n"
     ]
    },
    {
     "name": "stdout",
     "output_type": "stream",
     "text": [
      "693/693 [==============================] - 0s 612us/step - loss: 0.0602 - visualDeg_err: 7.8700 - val_loss: 0.0712 - val_visualDeg_err: 8.8887\n",
      "Epoch 155/1000\n",
      "693/693 [==============================] - 0s 608us/step - loss: 0.0587 - visualDeg_err: 7.8388 - val_loss: 0.0728 - val_visualDeg_err: 8.8991\n",
      "Epoch 156/1000\n",
      "693/693 [==============================] - 0s 612us/step - loss: 0.0559 - visualDeg_err: 7.5658 - val_loss: 0.0685 - val_visualDeg_err: 8.6598\n",
      "Epoch 157/1000\n",
      "693/693 [==============================] - 0s 619us/step - loss: 0.0539 - visualDeg_err: 7.4087 - val_loss: 0.0657 - val_visualDeg_err: 8.4394\n",
      "Epoch 158/1000\n",
      "693/693 [==============================] - 0s 617us/step - loss: 0.0512 - visualDeg_err: 7.1963 - val_loss: 0.0642 - val_visualDeg_err: 8.4869\n",
      "Epoch 159/1000\n",
      "693/693 [==============================] - 0s 618us/step - loss: 0.0601 - visualDeg_err: 7.7796 - val_loss: 0.0687 - val_visualDeg_err: 8.6255\n",
      "Epoch 160/1000\n",
      "693/693 [==============================] - 0s 611us/step - loss: 0.0546 - visualDeg_err: 7.4950 - val_loss: 0.0684 - val_visualDeg_err: 8.4444\n",
      "Epoch 161/1000\n",
      "693/693 [==============================] - 0s 620us/step - loss: 0.0510 - visualDeg_err: 7.2851 - val_loss: 0.0630 - val_visualDeg_err: 8.2462\n",
      "Epoch 162/1000\n",
      "693/693 [==============================] - 0s 612us/step - loss: 0.0480 - visualDeg_err: 6.9371 - val_loss: 0.0639 - val_visualDeg_err: 8.5079\n",
      "Epoch 163/1000\n",
      "693/693 [==============================] - 0s 609us/step - loss: 0.0470 - visualDeg_err: 6.8884 - val_loss: 0.0608 - val_visualDeg_err: 7.9309\n",
      "Epoch 164/1000\n",
      "693/693 [==============================] - 0s 609us/step - loss: 0.0481 - visualDeg_err: 6.8244 - val_loss: 0.0619 - val_visualDeg_err: 8.0249\n",
      "Epoch 165/1000\n",
      "693/693 [==============================] - 0s 612us/step - loss: 0.0469 - visualDeg_err: 6.7362 - val_loss: 0.0583 - val_visualDeg_err: 7.9061\n",
      "Epoch 166/1000\n",
      "693/693 [==============================] - 0s 609us/step - loss: 0.0440 - visualDeg_err: 6.5454 - val_loss: 0.0579 - val_visualDeg_err: 7.8526\n",
      "Epoch 167/1000\n",
      "693/693 [==============================] - 0s 619us/step - loss: 0.0434 - visualDeg_err: 6.4784 - val_loss: 0.0530 - val_visualDeg_err: 7.3578\n",
      "Epoch 168/1000\n",
      "693/693 [==============================] - 0s 610us/step - loss: 0.0479 - visualDeg_err: 6.8807 - val_loss: 0.0644 - val_visualDeg_err: 8.4839\n",
      "Epoch 169/1000\n",
      "693/693 [==============================] - 0s 612us/step - loss: 0.0494 - visualDeg_err: 6.9726 - val_loss: 0.0551 - val_visualDeg_err: 7.4576\n",
      "Epoch 170/1000\n",
      "693/693 [==============================] - 0s 611us/step - loss: 0.0480 - visualDeg_err: 6.8971 - val_loss: 0.0536 - val_visualDeg_err: 7.4803\n",
      "Epoch 171/1000\n",
      "693/693 [==============================] - 0s 611us/step - loss: 0.0509 - visualDeg_err: 7.0395 - val_loss: 0.0634 - val_visualDeg_err: 8.4204\n",
      "Epoch 172/1000\n",
      "693/693 [==============================] - 0s 611us/step - loss: 0.0482 - visualDeg_err: 6.7771 - val_loss: 0.0525 - val_visualDeg_err: 7.2376\n",
      "Epoch 173/1000\n",
      "693/693 [==============================] - 0s 616us/step - loss: 0.0426 - visualDeg_err: 6.3709 - val_loss: 0.0493 - val_visualDeg_err: 6.9923\n",
      "Epoch 174/1000\n",
      "693/693 [==============================] - 0s 616us/step - loss: 0.0424 - visualDeg_err: 6.2736 - val_loss: 0.0530 - val_visualDeg_err: 7.2499\n",
      "Epoch 175/1000\n",
      "693/693 [==============================] - 0s 608us/step - loss: 0.0426 - visualDeg_err: 6.3615 - val_loss: 0.0572 - val_visualDeg_err: 7.6917\n",
      "Epoch 176/1000\n",
      "693/693 [==============================] - 0s 612us/step - loss: 0.0426 - visualDeg_err: 6.3363 - val_loss: 0.0560 - val_visualDeg_err: 7.3483\n",
      "Epoch 177/1000\n",
      "693/693 [==============================] - 0s 610us/step - loss: 0.0452 - visualDeg_err: 6.6671 - val_loss: 0.0472 - val_visualDeg_err: 6.9081\n",
      "Epoch 178/1000\n",
      "693/693 [==============================] - 0s 610us/step - loss: 0.0486 - visualDeg_err: 6.8399 - val_loss: 0.0493 - val_visualDeg_err: 7.1880\n",
      "Epoch 179/1000\n",
      "693/693 [==============================] - 0s 614us/step - loss: 0.0399 - visualDeg_err: 6.0670 - val_loss: 0.0487 - val_visualDeg_err: 6.7893\n",
      "Epoch 180/1000\n",
      "608/693 [=========================>....] - ETA: 0s - loss: 0.0422 - visualDeg_err: 6.0951"
     ]
    }
   ],
   "source": [
    "#Fit the model to data\n",
    "history = model.fit(x = Input, y= y, batch_size= 32, epochs = 1000, verbose = 1, validation_split = 0.1, shuffle = True  )"
   ]
  },
  {
   "cell_type": "code",
   "execution_count": 63,
   "metadata": {},
   "outputs": [
    {
     "data": {
      "text/plain": [
       "<matplotlib.legend.Legend at 0x7f6aa8550c18>"
      ]
     },
     "execution_count": 63,
     "metadata": {},
     "output_type": "execute_result"
    },
    {
     "data": {
      "image/png": "[encoded data removed]",
      "text/plain": [
       "<Figure size 432x288 with 1 Axes>"
      ]
     },
     "metadata": {
      "needs_background": "light"
     },
     "output_type": "display_data"
    }
   ],
   "source": [
    "import matplotlib.pyplot as plt\n",
    "#693/693 [==============================] - 0s 660us/step - loss: 0.0143 - val_loss: 0.0389\n",
    "l_test = (history.history['val_loss'])\n",
    "l_train = (history.history['loss'])\n",
    "l_test = np.sqrt(history.history['val_loss'])\n",
    "l_train = np.sqrt(history.history['loss'])\n",
    "plt.plot(l_train, label=\"Training Loss\")\n",
    "plt.plot(l_test, label=\"Test Accuracy\")\n",
    "plt.legend()"
   ]
  },
  {
   "cell_type": "code",
   "execution_count": 64,
   "metadata": {
    "scrolled": false
   },
   "outputs": [
    {
     "data": {
      "text/plain": [
       "<matplotlib.legend.Legend at 0x7f6aa84e5860>"
      ]
     },
     "execution_count": 64,
     "metadata": {},
     "output_type": "execute_result"
    },
    {
     "data": {
      "image/png": "[encoded data removed]",
      "text/plain": [
       "<Figure size 432x288 with 1 Axes>"
      ]
     },
     "metadata": {
      "needs_background": "light"
     },
     "output_type": "display_data"
    }
   ],
   "source": [
    "#model.outputs[0]\n",
    "#m.outputs = \n",
    "display = [2560,1440]   \n",
    "y_pred = model.predict(Input)\n",
    "\n",
    "start = 5\n",
    "end = 20\n",
    "plt.scatter(y[start:end,0]*display[0],y[start:end,1]*display[1],label = \"Actual\")\n",
    "plt.scatter(y_pred[start:end,0]*display[0],y_pred[start:end,1]*display[1], label = \"Prediction\")\n",
    "plt.legend()"
   ]
  },
  {
   "cell_type": "code",
   "execution_count": 65,
   "metadata": {
    "scrolled": true
   },
   "outputs": [
    {
     "data": {
      "text/plain": [
       "([array([ 19., 109.,  59.,  62., 135., 158.,  62.,  74.,  76.,  17.]),\n",
       "  array([  8.,  55.,  81.,  75.,  97., 165., 143.,  97.,  43.,   7.])],\n",
       " array([-0.08087245,  0.03560325,  0.15207894,  0.26855463,  0.38503033,\n",
       "         0.50150603,  0.61798173,  0.7344574 ,  0.8509331 ,  0.9674088 ,\n",
       "         1.0838845 ], dtype=float32),\n",
       " <a list of 2 Lists of Patches objects>)"
      ]
     },
     "execution_count": 65,
     "metadata": {},
     "output_type": "execute_result"
    },
    {
     "data": {
      "image/png": "[encoded data removed]",
      "text/plain": [
       "<Figure size 432x288 with 1 Axes>"
      ]
     },
     "metadata": {
      "needs_background": "light"
     },
     "output_type": "display_data"
    }
   ],
   "source": [
    "plt.hist(y_pred)"
   ]
  },
  {
   "cell_type": "code",
   "execution_count": 24,
   "metadata": {},
   "outputs": [
    {
     "data": {
      "text/plain": [
       "([array([ 75.,  84.,  38.,  82., 118., 117.,  68.,  35.,  86.,  68.]),\n",
       "  array([ 43.,  75.,  91.,  51.,  73., 111., 119.,  92.,  71.,  45.])],\n",
       " array([0.00359975, 0.10314647, 0.2026932 , 0.30223992, 0.40178665,\n",
       "        0.50133337, 0.6008801 , 0.70042682, 0.79997355, 0.89952027,\n",
       "        0.999067  ]),\n",
       " <a list of 2 Lists of Patches objects>)"
      ]
     },
     "execution_count": 24,
     "metadata": {},
     "output_type": "execute_result"
    },
    {
     "data": {
      "image/png": "[encoded data removed]",
      "text/plain": [
       "<Figure size 432x288 with 1 Axes>"
      ]
     },
     "metadata": {
      "needs_background": "light"
     },
     "output_type": "display_data"
    }
   ],
   "source": [
    "plt.hist(y)"
   ]
  },
  {
   "cell_type": "code",
   "execution_count": 66,
   "metadata": {},
   "outputs": [
    {
     "data": {
      "text/plain": [
       "<matplotlib.collections.PathCollection at 0x7f6aa81d7128>"
      ]
     },
     "execution_count": 66,
     "metadata": {},
     "output_type": "execute_result"
    },
    {
     "data": {
      "image/png": "[encoded data removed]",
      "text/plain": [
       "<Figure size 432x288 with 1 Axes>"
      ]
     },
     "metadata": {
      "needs_background": "light"
     },
     "output_type": "display_data"
    }
   ],
   "source": [
    "plt.scatter(y_pred[:,0],y_pred[:,1])"
   ]
  },
  {
   "cell_type": "code",
   "execution_count": 50,
   "metadata": {},
   "outputs": [
    {
     "data": {
      "text/plain": [
       "<matplotlib.collections.PathCollection at 0x7f6aab9adfd0>"
      ]
     },
     "execution_count": 50,
     "metadata": {},
     "output_type": "execute_result"
    },
    {
     "data": {
      "image/png": "[encoded data removed]",
      "text/plain": [
       "<Figure size 432x288 with 1 Axes>"
      ]
     },
     "metadata": {
      "needs_background": "light"
     },
     "output_type": "display_data"
    }
   ],
   "source": [
    "plt.scatter(y[:,0],y[:,1])"
   ]
  },
  {
   "cell_type": "code",
   "execution_count": null,
   "metadata": {},
   "outputs": [],
   "source": []
  }
 ],
 "metadata": {
  "kernelspec": {
   "display_name": "Python 3",
   "language": "python",
   "name": "python3"
  },
  "language_info": {
   "codemirror_mode": {
    "name": "ipython",
    "version": 3
   },
   "file_extension": ".py",
   "mimetype": "text/x-python",
   "name": "python",
   "nbconvert_exporter": "python",
   "pygments_lexer": "ipython3",
   "version": "3.6.7"
  }
 },
 "nbformat": 4,
 "nbformat_minor": 2
}
