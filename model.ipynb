{
 "cells": [
  {
   "cell_type": "code",
   "execution_count": 10,
   "metadata": {},
   "outputs": [],
   "source": [
    "import numpy as np\n",
    "import tensorflow as tf\n",
    "import keras"
   ]
  },
  {
   "cell_type": "code",
   "execution_count": 17,
   "metadata": {},
   "outputs": [],
   "source": [
    "from keras.models import Model\n",
    "from keras.layers import Dense, Embedding, Dropout,Flatten,Concatenate\n",
    "from keras.layers import LSTM\n",
    "from sklearn.model_selection import train_test_split"
   ]
  },
  {
   "cell_type": "code",
   "execution_count": 19,
   "metadata": {},
   "outputs": [
    {
     "name": "stdout",
     "output_type": "stream",
     "text": [
      "(720, 15, 2)\n"
     ]
    }
   ],
   "source": [
    "#input data\n",
    "data_dir = \"/home/niteesh/Documents/uni/HCI/Saarland/Npy_files/\"\n",
    "f=\"7.npy\"\n",
    "file = data_dir + f\n",
    "data = np.load(file)\n",
    "print(data.shape)"
   ]
  },
  {
   "cell_type": "code",
   "execution_count": 47,
   "metadata": {},
   "outputs": [
    {
     "name": "stdout",
     "output_type": "stream",
     "text": [
      "(720, 6, 2)\n",
      "(720, 2)\n"
     ]
    }
   ],
   "source": [
    "#format data\n",
    "Input = data[:,0:6,:]\n",
    "y = data[:,-1,:]\n",
    "print(Input.shape)\n",
    "print(y.shape)\n",
    "X_train, X_test, y_train, y_test = train_test_split(Input, y, test_size=0.33)\n"
   ]
  },
  {
   "cell_type": "code",
   "execution_count": 49,
   "metadata": {},
   "outputs": [],
   "source": [
    "#Hyper-parameters, constants\n",
    "max_length_saccades = 6\n",
    "learning_rate=0.001"
   ]
  },
  {
   "cell_type": "code",
   "execution_count": 68,
   "metadata": {},
   "outputs": [
    {
     "name": "stdout",
     "output_type": "stream",
     "text": [
      "_________________________________________________________________\n",
      "Layer (type)                 Output Shape              Param #   \n",
      "=================================================================\n",
      "lstm_26 (LSTM)               (None, 6, 16)             1216      \n",
      "_________________________________________________________________\n",
      "lstm_27 (LSTM)               (None, 16)                2112      \n",
      "_________________________________________________________________\n",
      "dropout_1 (Dropout)          (None, 16)                0         \n",
      "_________________________________________________________________\n",
      "dense_19 (Dense)             (None, 2)                 34        \n",
      "=================================================================\n",
      "Total params: 3,362\n",
      "Trainable params: 3,362\n",
      "Non-trainable params: 0\n",
      "_________________________________________________________________\n",
      "Inputs: (None, 6, 2)\n",
      "Outputs: (None, 2)\n",
      "Actual input: (720, 6, 2)\n",
      "Actual output: (720, 2)\n"
     ]
    }
   ],
   "source": [
    "optimizer = keras.optimizers.Adam(lr=learning_rate)\n",
    "model = keras.models.Sequential()\n",
    "model.add(LSTM(16,return_sequences=True,input_shape=(max_length_saccades, 2)))  \n",
    "model.add(LSTM(16,return_sequences=False))  \n",
    "# returns a sequence of vectors of dimension 32\n",
    "\n",
    "#model.add(Dropout(0.5))\n",
    "#model.add(LSTM(8, return_sequences=True))  \n",
    "# returns a sequence of vectors of dimension 32\n",
    "\n",
    "#model.add(Flatten())\n",
    "model.add(Dropout(0.3))\n",
    "\n",
    "model.add(Dense(2, activation='linear'))\n",
    "\n",
    "# try using different optimizers and different optimizer configs\n",
    "model.compile(loss='mse',\n",
    "              optimizer=optimizer,\n",
    "              metrics=['accuracy'])\n",
    "# Print summary\n",
    "model.summary()\n",
    "print(\"Inputs: {}\".format(model.input_shape))\n",
    "print(\"Outputs: {}\".format(model.output_shape))\n",
    "print(\"Actual input: {}\".format(Input.shape))\n",
    "print(\"Actual output: {}\".format(y.shape))"
   ]
  },
  {
   "cell_type": "code",
   "execution_count": 69,
   "metadata": {},
   "outputs": [
    {
     "name": "stdout",
     "output_type": "stream",
     "text": [
      "Train on 648 samples, validate on 72 samples\n",
      "Epoch 1/10\n",
      " - 2s - loss: nan - acc: 0.8796 - val_loss: nan - val_acc: 0.9306\n",
      "Epoch 2/10\n",
      " - 0s - loss: nan - acc: 0.8889 - val_loss: nan - val_acc: 0.9306\n",
      "Epoch 3/10\n",
      " - 0s - loss: nan - acc: 0.8889 - val_loss: nan - val_acc: 0.9306\n",
      "Epoch 4/10\n",
      " - 0s - loss: nan - acc: 0.8889 - val_loss: nan - val_acc: 0.9306\n",
      "Epoch 5/10\n",
      " - 0s - loss: nan - acc: 0.8889 - val_loss: nan - val_acc: 0.9306\n",
      "Epoch 6/10\n",
      " - 0s - loss: nan - acc: 0.8889 - val_loss: nan - val_acc: 0.9306\n",
      "Epoch 7/10\n",
      " - 0s - loss: nan - acc: 0.8889 - val_loss: nan - val_acc: 0.9306\n",
      "Epoch 8/10\n",
      " - 0s - loss: nan - acc: 0.8889 - val_loss: nan - val_acc: 0.9306\n",
      "Epoch 9/10\n",
      " - 0s - loss: nan - acc: 0.8889 - val_loss: nan - val_acc: 0.9306\n",
      "Epoch 10/10\n",
      " - 0s - loss: nan - acc: 0.8889 - val_loss: nan - val_acc: 0.9306\n"
     ]
    },
    {
     "data": {
      "text/plain": [
       "<keras.callbacks.History at 0x7f29a8410a90>"
      ]
     },
     "execution_count": 69,
     "metadata": {},
     "output_type": "execute_result"
    }
   ],
   "source": [
    "#Fit the model to data\n",
    "model.fit(x = Input, y= y, epochs = 10, verbose = 2, validation_split = 0.1, shuffle = True,  )"
   ]
  },
  {
   "cell_type": "code",
   "execution_count": 56,
   "metadata": {},
   "outputs": [
    {
     "data": {
      "text/plain": [
       "[<tf.Tensor 'lstm_15/transpose_1:0' shape=(?, ?, 16) dtype=float32>,\n",
       " <tf.Tensor 'lstm_16/TensorArrayReadV3:0' shape=(?, 16) dtype=float32>,\n",
       " <tf.Tensor 'dense_13/BiasAdd:0' shape=(?, 2) dtype=float32>]"
      ]
     },
     "execution_count": 56,
     "metadata": {},
     "output_type": "execute_result"
    }
   ],
   "source": [
    "outputs = [layer.output for layer in model.layers]  \n",
    "outputs"
   ]
  },
  {
   "cell_type": "code",
   "execution_count": null,
   "metadata": {},
   "outputs": [],
   "source": [
    "model.summary()"
   ]
  }
 ],
 "metadata": {
  "kernelspec": {
   "display_name": "Python 3",
   "language": "python",
   "name": "python3"
  },
  "language_info": {
   "codemirror_mode": {
    "name": "ipython",
    "version": 3
   },
   "file_extension": ".py",
   "mimetype": "text/x-python",
   "name": "python",
   "nbconvert_exporter": "python",
   "pygments_lexer": "ipython3",
   "version": "3.6.7"
  }
 },
 "nbformat": 4,
 "nbformat_minor": 2
}
