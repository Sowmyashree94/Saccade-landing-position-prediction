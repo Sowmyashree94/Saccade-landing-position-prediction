{
 "cells": [
  {
   "cell_type": "code",
   "execution_count": 10,
   "metadata": {},
   "outputs": [],
   "source": [
    "import numpy as np\n",
    "import tensorflow as tf\n",
    "import keras"
   ]
  },
  {
   "cell_type": "code",
   "execution_count": 352,
   "metadata": {},
   "outputs": [],
   "source": [
    "from keras.models import Model\n",
    "from keras.layers import Dense, Embedding, Dropout,Flatten,Concatenate, Masking\n",
    "from keras.layers import LSTM\n",
    "from sklearn.model_selection import train_test_split"
   ]
  },
  {
   "cell_type": "code",
   "execution_count": 501,
   "metadata": {},
   "outputs": [
    {
     "name": "stdout",
     "output_type": "stream",
     "text": [
      "(503, 16, 2)\n"
     ]
    }
   ],
   "source": [
    "#input data\n",
    "data_dir = \"/home/niteesh/Documents/uni/HCI/Saarland/Npy_files/\"\n",
    "f=\"17.npy\"\n",
    "file = data_dir + f\n",
    "data = np.load(file)\n",
    "print(data.shape)"
   ]
  },
  {
   "cell_type": "code",
   "execution_count": 540,
   "metadata": {},
   "outputs": [],
   "source": [
    "#Hyper-parameters, constants\n",
    "max_length_saccades = 7\n",
    "learning_rate=0.0001"
   ]
  },
  {
   "cell_type": "code",
   "execution_count": 541,
   "metadata": {},
   "outputs": [
    {
     "name": "stdout",
     "output_type": "stream",
     "text": [
      "(503, 7, 2)\n",
      "(503, 2)\n"
     ]
    }
   ],
   "source": [
    "#format data\n",
    "Input = data[:,0:max_length_saccades,:]\n",
    "y = data[:,-1,:]\n",
    "print(Input.shape)\n",
    "print(y.shape)\n",
    "X_train, X_test, y_train, y_test = train_test_split(Input, y, test_size=0.33)\n"
   ]
  },
  {
   "cell_type": "code",
   "execution_count": 542,
   "metadata": {},
   "outputs": [
    {
     "name": "stdout",
     "output_type": "stream",
     "text": [
      "_________________________________________________________________\n",
      "Layer (type)                 Output Shape              Param #   \n",
      "=================================================================\n",
      "masking_32 (Masking)         (None, 7, 2)              0         \n",
      "_________________________________________________________________\n",
      "lstm_229 (LSTM)              (None, 7, 128)            67072     \n",
      "_________________________________________________________________\n",
      "lstm_230 (LSTM)              (None, 64)                49408     \n",
      "_________________________________________________________________\n",
      "dropout_101 (Dropout)        (None, 64)                0         \n",
      "_________________________________________________________________\n",
      "output_layers (Dense)        (None, 2)                 130       \n",
      "=================================================================\n",
      "Total params: 116,610\n",
      "Trainable params: 116,610\n",
      "Non-trainable params: 0\n",
      "_________________________________________________________________\n",
      "Inputs: (None, 7, 2)\n",
      "Outputs: (None, 2)\n",
      "Actual input: (503, 7, 2)\n",
      "Actual output: (503, 2)\n"
     ]
    }
   ],
   "source": [
    "optimizer = keras.optimizers.RMSprop(lr=learning_rate)\n",
    "model = keras.models.Sequential()\n",
    "\n",
    "layer1 = model.add(Masking(mask_value=np.nan, input_shape=(max_length_saccades, 2)))\n",
    "layer2 = model.add(LSTM(128, return_sequences=True))\n",
    "\n",
    "#model.add(LSTM(128,return_sequences=True,input_shape=(max_length_saccades, 2)))  \n",
    "layer3 = model.add(LSTM(64,return_sequences=False))  \n",
    "# returns a sequence of vectors of dimension 32\n",
    "\n",
    "#model.add(Dropout(0.5))\n",
    "#model.add(LSTM(8, return_sequences=True))  \n",
    "# returns a sequence of vectors of dimension 32\n",
    "\n",
    "#model.add(Flatten())\n",
    "layer4 = model.add(Dropout(0.1))\n",
    "\n",
    "#model.add(Dense(32, activation='relu'))\n",
    "\n",
    "output_layer = model.add(Dense(2, activation='linear',name = 'output_layers'))\n",
    "\n",
    "# try using different optimizers and different optimizer configs\n",
    "model.compile(loss='mse',\n",
    "              optimizer=optimizer,\n",
    "              metrics=['accuracy'])\n",
    "# Print summary\n",
    "model.summary()\n",
    "print(\"Inputs: {}\".format(model.input_shape))\n",
    "print(\"Outputs: {}\".format(model.output_shape))\n",
    "print(\"Actual input: {}\".format(Input.shape))\n",
    "print(\"Actual output: {}\".format(y.shape))"
   ]
  },
  {
   "cell_type": "code",
   "execution_count": 543,
   "metadata": {},
   "outputs": [
    {
     "name": "stdout",
     "output_type": "stream",
     "text": [
      "Train on 452 samples, validate on 51 samples\n",
      "Epoch 1/10\n",
      " - 12s - loss: nan - acc: 0.5619 - val_loss: nan - val_acc: 0.7451\n",
      "Epoch 2/10\n",
      " - 0s - loss: nan - acc: 0.6991 - val_loss: nan - val_acc: 0.7451\n",
      "Epoch 3/10\n",
      " - 0s - loss: nan - acc: 0.6991 - val_loss: nan - val_acc: 0.7451\n",
      "Epoch 4/10\n",
      " - 0s - loss: nan - acc: 0.6991 - val_loss: nan - val_acc: 0.7451\n",
      "Epoch 5/10\n",
      " - 0s - loss: nan - acc: 0.6991 - val_loss: nan - val_acc: 0.7451\n",
      "Epoch 6/10\n",
      " - 0s - loss: nan - acc: 0.6991 - val_loss: nan - val_acc: 0.7451\n",
      "Epoch 7/10\n",
      " - 0s - loss: nan - acc: 0.6991 - val_loss: nan - val_acc: 0.7451\n",
      "Epoch 8/10\n",
      " - 0s - loss: nan - acc: 0.6991 - val_loss: nan - val_acc: 0.7451\n",
      "Epoch 9/10\n",
      " - 0s - loss: nan - acc: 0.6991 - val_loss: nan - val_acc: 0.7451\n",
      "Epoch 10/10\n",
      " - 0s - loss: nan - acc: 0.6991 - val_loss: nan - val_acc: 0.7451\n"
     ]
    }
   ],
   "source": [
    "#Fit the model to data\n",
    "history = model.fit(x = Input, y= y, batch_size= 32, epochs = 10, verbose = 2, validation_split = 0.1, shuffle = True  )"
   ]
  },
  {
   "cell_type": "code",
   "execution_count": 527,
   "metadata": {
    "scrolled": true
   },
   "outputs": [
    {
     "name": "stdout",
     "output_type": "stream",
     "text": [
      "[[3.53394   2.2949533]\n",
      " [3.608728  2.3708773]\n",
      " [3.647386  2.4286132]\n",
      " [3.7436602 2.596496 ]\n",
      " [3.7600462 2.5975847]\n",
      " [3.6083102 2.3672001]\n",
      " [3.5031743 2.2552056]\n",
      " [3.7276032 2.5636601]\n",
      " [0.9426783 0.6316561]\n",
      " [4.24292   2.69382  ]]\n",
      "[[  213.546752    1053.5688    ]\n",
      " [   20.98096384  1066.34376   ]\n",
      " [  254.461824    1088.80128   ]\n",
      " [  249.230336    1201.69656   ]\n",
      " [  441.02784     1283.89248   ]\n",
      " [   46.387456    1351.27368   ]\n",
      " [  336.29056     1350.63504   ]\n",
      " [-1379.2768      -684.30672   ]\n",
      " [  910.53568     1021.3884    ]\n",
      " [ 1322.29632      820.76544   ]]\n"
     ]
    }
   ],
   "source": [
    "#model.outputs[0]\n",
    "#m.outputs = \n",
    "y_pred = model.predict(Input)\n",
    "print(y_pred[0:10])\n",
    "print(y[0:10])"
   ]
  },
  {
   "cell_type": "code",
   "execution_count": 528,
   "metadata": {},
   "outputs": [
    {
     "data": {
      "text/plain": [
       "<matplotlib.legend.Legend at 0x7f29192b0fd0>"
      ]
     },
     "execution_count": 528,
     "metadata": {},
     "output_type": "execute_result"
    },
    {
     "data": {
      "image/png": "[encoded data removed]",
      "text/plain": [
       "<Figure size 432x288 with 1 Axes>"
      ]
     },
     "metadata": {
      "needs_background": "light"
     },
     "output_type": "display_data"
    }
   ],
   "source": [
    "import matplotlib.pyplot as plt\n",
    "plt.plot(history.history['val_acc'], label=\"Test Accuracy\")\n",
    "plt.plot(history.history['acc'], label=\"Training Accuracy\")\n",
    "plt.legend()"
   ]
  },
  {
   "cell_type": "code",
   "execution_count": 529,
   "metadata": {
    "scrolled": true
   },
   "outputs": [
    {
     "data": {
      "text/plain": [
       "([array([  1.,   0.,   0.,   1.,   0.,   0.,  44., 105., 131., 221.]),\n",
       "  array([  1.,   0.,   1.,  34., 251., 216.,   0.,   0.,   0.,   0.])],\n",
       " array([0.6316561, 1.0661333, 1.5006104, 1.9350876, 2.3695648, 2.8040419,\n",
       "        3.238519 , 3.672996 , 4.1074734, 4.54195  , 4.9764276],\n",
       "       dtype=float32),\n",
       " <a list of 2 Lists of Patches objects>)"
      ]
     },
     "execution_count": 529,
     "metadata": {},
     "output_type": "execute_result"
    },
    {
     "data": {
      "image/png": "[encoded data removed]",
      "text/plain": [
       "<Figure size 432x288 with 1 Axes>"
      ]
     },
     "metadata": {
      "needs_background": "light"
     },
     "output_type": "display_data"
    }
   ],
   "source": [
    "plt.hist(y_pred)"
   ]
  },
  {
   "cell_type": "code",
   "execution_count": 299,
   "metadata": {},
   "outputs": [
    {
     "data": {
      "text/plain": [
       "([array([  2.,   3.,   2.,  29., 337., 321., 240., 276.,   8.,   4.]),\n",
       "  array([  0.,   0.,   3., 145., 485., 568.,  21.,   0.,   0.,   0.])],\n",
       " array([-2535.3984 , -1880.68864, -1225.97888,  -571.26912,    83.44064,\n",
       "          738.1504 ,  1392.86016,  2047.56992,  2702.27968,  3356.98944,\n",
       "         4011.6992 ]),\n",
       " <a list of 2 Lists of Patches objects>)"
      ]
     },
     "execution_count": 299,
     "metadata": {},
     "output_type": "execute_result"
    },
    {
     "data": {
      "image/png": "[encoded data removed]",
      "text/plain": [
       "<Figure size 432x288 with 1 Axes>"
      ]
     },
     "metadata": {
      "needs_background": "light"
     },
     "output_type": "display_data"
    }
   ],
   "source": [
    "plt.hist(y)"
   ]
  },
  {
   "cell_type": "code",
   "execution_count": 544,
   "metadata": {},
   "outputs": [
    {
     "name": "stdout",
     "output_type": "stream",
     "text": [
      "[[[950.71747 817.4354 ]\n",
      "  [956.105   816.6341 ]\n",
      "  [949.5693  813.35016]\n",
      "  [937.4784  813.0262 ]\n",
      "  [911.65314 805.8622 ]\n",
      "  [871.5379  816.5585 ]\n",
      "  [      nan       nan]]]\n",
      "[[[950.71744 817.43544]\n",
      "  [956.10496 816.63408]\n",
      "  [949.56928 813.35016]\n",
      "  [937.4784  813.02616]\n",
      "  [911.65312 805.86216]\n",
      "  [871.53792 816.55848]\n",
      "  [      nan       nan]]]\n"
     ]
    }
   ],
   "source": [
    "layer_name = 'my_layer'\n",
    "intermediate_layer_model = Model(inputs=model.input,\n",
    "                                 outputs=model.get_layer('masking_32').output)\n",
    "intermediate_output = intermediate_layer_model.predict(Input[107:108])\n",
    "print(intermediate_output)\n",
    "print(Input[107:108])"
   ]
  },
  {
   "cell_type": "code",
   "execution_count": 520,
   "metadata": {},
   "outputs": [
    {
     "data": {
      "text/plain": [
       "<keras.layers.core.Masking at 0x7f292a90ff28>"
      ]
     },
     "execution_count": 520,
     "metadata": {},
     "output_type": "execute_result"
    }
   ],
   "source": [
    "model.get_layer('masking_30')"
   ]
  },
  {
   "cell_type": "code",
   "execution_count": 538,
   "metadata": {},
   "outputs": [
    {
     "data": {
      "text/plain": [
       "(1, 6, 2)"
      ]
     },
     "execution_count": 538,
     "metadata": {},
     "output_type": "execute_result"
    }
   ],
   "source": [
    "Input[0:1].shape\n"
   ]
  },
  {
   "cell_type": "code",
   "execution_count": null,
   "metadata": {},
   "outputs": [],
   "source": []
  }
 ],
 "metadata": {
  "kernelspec": {
   "display_name": "Python 3",
   "language": "python",
   "name": "python3"
  },
  "language_info": {
   "codemirror_mode": {
    "name": "ipython",
    "version": 3
   },
   "file_extension": ".py",
   "mimetype": "text/x-python",
   "name": "python",
   "nbconvert_exporter": "python",
   "pygments_lexer": "ipython3",
   "version": "3.6.7"
  }
 },
 "nbformat": 4,
 "nbformat_minor": 2
}
